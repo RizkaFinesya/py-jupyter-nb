{
 "cells": [
  {
   "cell_type": "markdown",
   "id": "cca11c7c",
   "metadata": {},
   "source": [
    "# sid\n",
    "Some serial numbers of studenoid."
   ]
  },
  {
   "cell_type": "code",
   "execution_count": 1,
   "id": "8dfb8f71",
   "metadata": {},
   "outputs": [],
   "source": [
    "data = [\n",
    "    [20221305, \"Alwali Walyatalattov Solichin\"],\n",
    "    [20222001, \"Syifa Hilya Tsaniya\"],\n",
    "    [20222003, \"Raihan Mohammad Rahman\"],\n",
    "    [20222009,\t\"Muhammad Risyad Naufal\"],\n",
    "    [20222011, \"Deni Ramdani\"],\n",
    "    [20222013, \"Andi M. N. F. Syamsul\"],\n",
    "    [20222014, \"Nur Annisa\"],\n",
    "    [20222017, \"Beny Agustirandi\"],    \n",
    "]"
   ]
  },
  {
   "cell_type": "code",
   "execution_count": 2,
   "id": "113832f7",
   "metadata": {},
   "outputs": [
    {
     "name": "stdout",
     "output_type": "stream",
     "text": [
      "        SID                      Studenoid\n",
      "0  20221305  Alwali Walyatalattov Solichin\n",
      "1  20222001            Syifa Hilya Tsaniya\n",
      "2  20222003         Raihan Mohammad Rahman\n",
      "3  20222009         Muhammad Risyad Naufal\n",
      "4  20222011                   Deni Ramdani\n",
      "5  20222013          Andi M. N. F. Syamsul\n",
      "6  20222014                     Nur Annisa\n",
      "7  20222017               Beny Agustirandi\n"
     ]
    }
   ],
   "source": [
    "import pandas as pd\n",
    "df = pd.DataFrame(data, columns=['SID', 'Studenoid'])\n",
    "print(df)"
   ]
  },
  {
   "cell_type": "code",
   "execution_count": null,
   "id": "c470849c",
   "metadata": {},
   "outputs": [],
   "source": []
  }
 ],
 "metadata": {
  "authors": [
   {
    "name": "Sparisoma Viridi"
   }
  ],
  "kernelspec": {
   "display_name": "Python 3 (ipykernel)",
   "language": "python",
   "name": "python3"
  },
  "language_info": {
   "codemirror_mode": {
    "name": "ipython",
    "version": 3
   },
   "file_extension": ".py",
   "mimetype": "text/x-python",
   "name": "python",
   "nbconvert_exporter": "python",
   "pygments_lexer": "ipython3",
   "version": "3.10.10"
  },
  "title": "sid"
 },
 "nbformat": 4,
 "nbformat_minor": 5
}
