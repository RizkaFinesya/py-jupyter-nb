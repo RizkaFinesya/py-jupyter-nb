{
 "cells": [
  {
   "cell_type": "markdown",
   "id": "cca11c7c",
   "metadata": {},
   "source": [
    "# lib6\n",
    "Some serial numbers of studenoid."
   ]
  },
  {
   "cell_type": "code",
   "execution_count": null,
   "id": "8dfb8f71",
   "metadata": {},
   "outputs": [],
   "source": [
    "data = [\n",
    "    [20221305, \"Alwali Walyatalattov Solichin\"],\n",
    "    [20222001, \"Syifa Hilya Tsaniya\"],\n",
    "    [20222003, \"Raihan Mohammad Rahman\"],\n",
    "    [20222009,\t\"Muhammad Risyad Naufal\"],\n",
    "    [20222011, \"Deni Ramdani\"],\n",
    "    [20222013, \"Andi M. N. F. Syamsul\"],\n",
    "    [20222014, \"Nur Annisa\"],\n",
    "    [20222017, \"Beny Agustirandi\"],    \n",
    "]"
   ]
  },
  {
   "cell_type": "code",
   "execution_count": null,
   "id": "113832f7",
   "metadata": {},
   "outputs": [],
   "source": [
    "import pandas as pd\n",
    "df = pd.DataFrame(data, columns=['SID', 'Studenoid'])\n",
    "print(df)"
   ]
  },
  {
   "cell_type": "code",
   "execution_count": null,
   "id": "c470849c",
   "metadata": {},
   "outputs": [],
   "source": [
    "from scipy.io.wavfile import write\n",
    "\n",
    "sample_rate = 44100 # Hz\n",
    "int16max = 32767 # 16-bit int -32768 -- 32767\n",
    "duration = 2 # s\n",
    "\n",
    "freq1 = 100 # Hz\n",
    "freq2 = 200 # Hz\n",
    "freq3 = 300 # Hz\n",
    "fname = 'nim.wav'\n",
    "\n",
    "_, y1 = gen.sine_wave(freq1, sample_rate, duration)\n",
    "_, y2 = gen.sine_wave(freq2, sample_rate, duration)\n",
    "_, y3 = gen.sine_wave(freq3, sample_rate, duration)\n",
    "y = y1 + 0.3 * y2\n",
    "\n",
    "# normalize amplitude for wav file\n",
    "yn = np.int16((y / y.max()) * int16max)\n",
    "\n",
    "# write to file with 44100 Hz playback rate\n",
    "write(fname, sample_rate, yn)"
   ]
  }
 ],
 "metadata": {
  "authors": [
   {
    "name": "Sparisoma Viridi"
   }
  ],
  "kernelspec": {
   "display_name": "Python 3 (ipykernel)",
   "language": "python",
   "name": "python3"
  },
  "language_info": {
   "codemirror_mode": {
    "name": "ipython",
    "version": 3
   },
   "file_extension": ".py",
   "mimetype": "text/x-python",
   "name": "python",
   "nbconvert_exporter": "python",
   "pygments_lexer": "ipython3",
   "version": "3.10.10"
  },
  "title": "lib6"
 },
 "nbformat": 4,
 "nbformat_minor": 5
}
