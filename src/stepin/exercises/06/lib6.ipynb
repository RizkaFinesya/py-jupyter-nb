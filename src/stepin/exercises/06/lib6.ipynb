{
 "cells": [
  {
   "cell_type": "markdown",
   "id": "cca11c7c",
   "metadata": {},
   "source": [
    "# lib6\n",
    "Functions for exercise 6."
   ]
  },
  {
   "cell_type": "code",
   "execution_count": 1,
   "id": "113832f7",
   "metadata": {},
   "outputs": [],
   "source": [
    "import pandas as pd\n",
    "\n",
    "data = [\n",
    "    [20221305, \"Alwali Walyatalattov Solichin\"],\n",
    "    [20222001, \"Syifa Hilya Tsaniya\"],\n",
    "    [20222003, \"Raihan Mohammad Rahman\"],\n",
    "    [20222009,\t\"Muhammad Risyad Naufal\"],\n",
    "    [20222011, \"Deni Ramdani\"],\n",
    "    [20222013, \"Andi M. N. F. Syamsul\"],\n",
    "    [20222014, \"Nur Annisa\"],\n",
    "    [20222017, \"Beny Agustirandi\"],    \n",
    "]\n",
    "\n",
    "df = pd.DataFrame(data, columns=['SID', 'Studenoid'])"
   ]
  },
  {
   "cell_type": "code",
   "execution_count": 2,
   "id": "a0289cdf",
   "metadata": {},
   "outputs": [],
   "source": [
    "import numpy as np\n",
    "\n",
    "def sine_wave(freq, sample_rate, duration):\n",
    "    t = np.linspace(0, duration, sample_rate * duration, endpoint=False)\n",
    "    omega = 2 * np.pi * freq\n",
    "    y = np.sin(omega * t)\n",
    "    return t, y\n",
    "\n",
    "def cosine_wave(freq, sample_rate, duration):\n",
    "    t = np.linspace(0, duration, sample_rate * duration, endpoint=False)\n",
    "    omega = 2 * np.pi * freq\n",
    "    y = np.cos(omega * t)\n",
    "    return t, y"
   ]
  },
  {
   "cell_type": "code",
   "execution_count": 6,
   "id": "c470849c",
   "metadata": {},
   "outputs": [],
   "source": [
    "from scipy.io.wavfile import write\n",
    "\n",
    "sample_rate = 44100 # Hz\n",
    "int16max = 32767 # 16-bit int -32768 -- 32767\n",
    "duration = 4 # s\n",
    "\n",
    "flow = [100, 200]    # Hz\n",
    "fmed = [500, 600]   # Hz\n",
    "fhig = [1000, 2000] # Hz\n",
    "\n",
    "for i in range(len(flow)):\n",
    "    for j in range(len(fmed)):\n",
    "        for k in range(len(fhig)):\n",
    "            bnum = f\"{i}{j}{k}\"\n",
    "            dnum = int(bnum, 2)\n",
    "            sid = data[dnum][0]\n",
    "            fn = f\"{sid}.wav\"\n",
    "            _, low = sine_wave(flow[i], sample_rate, duration)\n",
    "            _, med = sine_wave(fmed[j], sample_rate, duration)\n",
    "            _, hig = sine_wave(fhig[k], sample_rate, duration)\n",
    "            y = low + med + hig\n",
    "            yn = np.int16((y / y.max()) * int16max)\n",
    "            write(fn, sample_rate, yn)"
   ]
  },
  {
   "cell_type": "code",
   "execution_count": null,
   "id": "948c54d4",
   "metadata": {},
   "outputs": [],
   "source": [
    "def sinusoidal_grating(sample, wavelength, angle):\n",
    "    xmin = 0\n",
    "    xmax = sample\n",
    "    x = np.arange(xmin, xmax, 1)\n",
    "    X, Y = np.meshgrid(x, x)\n",
    "    Z = X * np.cos(angle) + Y * np.sin(angle)\n",
    "    grating = np.sin(2 * np.pi * Z / wavelength)\n",
    "    return grating\n",
    "\n",
    "def create_png_image_sinusoidal_grating(Image, sample, wavelength, angle):\n",
    "    sg = sinusoidal_grating(sample, wavelength, angle)\n",
    "    sg_min = min(map(min, sg))\n",
    "    sg_max = max(map(max, sg))\n",
    "    \n",
    "    im = Image.new('L', (sample, sample))\n",
    "    pix = im.load()\n",
    "    for y in range(sample):\n",
    "        for x in range(sample):\n",
    "            #c = int(255 * (1 + sg[y][x]))\n",
    "            #c = int(255 * sg[y][x])\n",
    "            #c = int(255 * (sg[y][x] - sg_min) / (sg_max - sg_min))\n",
    "            c = np.int8((sg[y][x] / sg_max) * int8max)\n",
    "            #yn = np.int16((y / y.max()) * int16max)\n",
    "            pix[x, y] = (c)\n",
    "    return im\n",
    "\n",
    "int8max = 127 # -128 -- 126"
   ]
  },
  {
   "cell_type": "code",
   "execution_count": null,
   "id": "76ecbabb",
   "metadata": {},
   "outputs": [],
   "source": [
    "import matplotlib.pyplot as plt\n",
    "import numpy as np\n",
    "from PIL import Image\n",
    "\n",
    "def test_save():\n",
    "    im = create_png_image_sinusoidal_grating(Image, 100, 10, 0.25 * np.pi)\n",
    "    im.save(\"data/sin_grat_test.png\", 'PNG')"
   ]
  },
  {
   "cell_type": "code",
   "execution_count": null,
   "id": "986c06f1",
   "metadata": {},
   "outputs": [],
   "source": []
  }
 ],
 "metadata": {
  "authors": [
   {
    "name": "Sparisoma Viridi"
   }
  ],
  "kernelspec": {
   "display_name": "Python 3 (ipykernel)",
   "language": "python",
   "name": "python3"
  },
  "language_info": {
   "codemirror_mode": {
    "name": "ipython",
    "version": 3
   },
   "file_extension": ".py",
   "mimetype": "text/x-python",
   "name": "python",
   "nbconvert_exporter": "python",
   "pygments_lexer": "ipython3",
   "version": "3.10.10"
  },
  "title": "lib6"
 },
 "nbformat": 4,
 "nbformat_minor": 5
}
