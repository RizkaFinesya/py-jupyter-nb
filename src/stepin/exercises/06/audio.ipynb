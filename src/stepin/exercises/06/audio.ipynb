{
 "cells": [
  {
   "cell_type": "markdown",
   "id": "cca11c7c",
   "metadata": {},
   "source": [
    "# audio\n",
    "Related to audio samples."
   ]
  },
  {
   "cell_type": "code",
   "execution_count": null,
   "id": "29f98c44",
   "metadata": {},
   "outputs": [],
   "source": [
    "import pandas as pd\n",
    "data = [\n",
    "    [20221305, \"Alwali Walyatalattov Solichin\"],\n",
    "    [20222001, \"Syifa Hilya Tsaniya\"],\n",
    "    [20222003, \"Raihan Mohammad Rahman\"],\n",
    "    [20222009,\t\"Muhammad Risyad Naufal\"],\n",
    "    [20222011, \"Deni Ramdani\"],\n",
    "    [20222013, \"Andi M. N. F. Syamsul\"],\n",
    "    [20222014, \"Nur Annisa\"],\n",
    "    [20222017, \"Beny Agustirandi\"],    \n",
    "]\n",
    "df = pd.DataFrame(data, columns=['SID', 'Studenoid']"
   ]
  },
  {
   "cell_type": "code",
   "execution_count": null,
   "id": "8dfb8f71",
   "metadata": {},
   "outputs": [],
   "source": [
    "import numpy as np\n",
    "def sine_wave(freq, sample_rate, duration):\n",
    "    t = np.linspace(0, duration, sample_rate * duration, endpoint=False)\n",
    "    omega = 2 * np.pi * freq\n",
    "    y = np.sin(omega * t)\n",
    "    return t, y\n",
    "\n",
    "def cosine_wave(freq, sample_rate, duration):\n",
    "    t = np.linspace(0, duration, sample_rate * duration, endpoint=False)\n",
    "    omega = 2 * np.pi * freq\n",
    "    y = np.cos(omega * t)\n",
    "    return t, y"
   ]
  },
  {
   "cell_type": "code",
   "execution_count": null,
   "id": "c470849c",
   "metadata": {},
   "outputs": [],
   "source": []
  }
 ],
 "metadata": {
  "authors": [
   {
    "name": "Sparisoma Viridi"
   }
  ],
  "kernelspec": {
   "display_name": "Python 3 (ipykernel)",
   "language": "python",
   "name": "python3"
  },
  "language_info": {
   "codemirror_mode": {
    "name": "ipython",
    "version": 3
   },
   "file_extension": ".py",
   "mimetype": "text/x-python",
   "name": "python",
   "nbconvert_exporter": "python",
   "pygments_lexer": "ipython3",
   "version": "3.10.10"
  },
  "title": "audio"
 },
 "nbformat": 4,
 "nbformat_minor": 5
}
